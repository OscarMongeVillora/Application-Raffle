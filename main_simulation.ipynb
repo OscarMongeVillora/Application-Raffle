{
 "cells": [
  {
   "cell_type": "code",
   "execution_count": 1,
   "metadata": {},
   "outputs": [],
   "source": [
    "import application as app"
   ]
  },
  {
   "cell_type": "code",
   "execution_count": 2,
   "metadata": {},
   "outputs": [],
   "source": [
    "\n",
    "names = ['Oscar Monge', 'Carlos Mendez', 'Victor Segura', 'Ivan Romero', 'Sara Pollato', 'Carla Roqueta', 'Ivan Femenia', \n",
    "        ' Nico Alarcon', 'Diego Gomez', 'Maria Luna', 'Toni Luque', 'Naruto', 'Gol d Roger', 'Moneky d Luffy', 'Isaac L', \n",
    "        'Pedro Monge', 'Carla Garrido', 'Xavi Guerrero', 'Mario Luna', 'Pepe Romero', 'Carlos Soto', 'Pele', 'Maradona',\n",
    "        'Oscar Garrido', 'Carlos Pedro', 'Victor Garcia', 'Ivan Moreno', 'Sara Bilbao', 'Alvaro Vela', 'Ivan Tete', \n",
    "        ' Nico Piedra', 'Diego Severiche', 'Maria Pollo', 'Toni Velazquez', 'Boruto', 'Oscar Sol', 'Ronoroa Zoro', 'Isaac N', \n",
    "        'Pedro Blanco', 'Leon Serrano', 'Xavi Gascon', 'Mario Vaquerizo', 'Messi', 'Mario Vela', 'Henry', 'Eric Pintor']\n",
    "\n",
    "\n",
    "cities = ['Martorelles', 'Mollet', 'Barcelona', 'Calpe', 'Buenos Aires', 'Rosario', 'La Plata', 'Quilmes','Madrid'\n",
    "         'Getafe', 'Parets', 'Montcada', 'Montmelo', 'Sant Andreu', 'Parets', 'Montcada', 'Montmelo', 'Sant Andreu'\n",
    "         'Martorelles', 'Mollet', 'Barcelona', 'Calpe', 'Malaga', 'Valencia', 'Benidorm', \n",
    "         'Martorelles', 'Mollet', 'Barcelona', 'Calpe', 'Buenos Aires', 'Rosario', 'La Plata', 'Quilmes','Madrid'\n",
    "         'Getafe', 'Parets', 'Montcada', 'Montmelo', 'Sant Andreu', 'Parets', 'Montcada', 'Montmelo', 'Sant Andreu'\n",
    "         'Martorelles', 'Mollet', 'Barcelona', 'Calpe', 'Malaga', 'Valencia', 'Benidorm']\n",
    "\n",
    "companies = ['Cocacola', 'Esteven', 'Endesa', 'Mercadona', 'Dechatlon', 'Nike', 'Zalando']\n",
    "raffles_name = ['Sorteo energético', 'Sorteo de Einstein', 'Sorteo de la Luz', \n",
    "                'Food Raffle', 'Sorteo extremo', 'Sorteo Messi', 'Sorteo de la moda']\n",
    "\n",
    "password = '12345'\n",
    "\n"
   ]
  },
  {
   "cell_type": "code",
   "execution_count": 3,
   "metadata": {},
   "outputs": [
    {
     "data": {
      "text/plain": [
       "46"
      ]
     },
     "execution_count": 3,
     "metadata": {},
     "output_type": "execute_result"
    }
   ],
   "source": [
    "len(names)"
   ]
  },
  {
   "cell_type": "code",
   "execution_count": 46,
   "metadata": {},
   "outputs": [
    {
     "data": {
      "text/plain": [
       "3"
      ]
     },
     "execution_count": 46,
     "metadata": {},
     "output_type": "execute_result"
    }
   ],
   "source": [
    "l = [1, 2, 3, 'o']\n",
    "l.index('o')"
   ]
  },
  {
   "cell_type": "code",
   "execution_count": 4,
   "metadata": {},
   "outputs": [],
   "source": [
    "import numpy as np\n",
    "\n",
    "def telf_generator():\n",
    "    telf = (random.choices(list(range(10)), k = 8))\n",
    "    telf_str = '6'\n",
    "\n",
    "    numbers = [str(x) for x in telf]\n",
    "    for x in numbers:\n",
    "        telf_str += x\n",
    "    return telf_str"
   ]
  },
  {
   "cell_type": "code",
   "execution_count": 5,
   "metadata": {},
   "outputs": [
    {
     "name": "stdout",
     "output_type": "stream",
     "text": [
      "Password accepted\n",
      "Password accepted\n",
      "Password accepted\n",
      "Password accepted\n",
      "Password accepted\n",
      "Password accepted\n",
      "Password accepted\n",
      "Password accepted\n",
      "Password accepted\n",
      "Password accepted\n",
      "Password accepted\n",
      "Password accepted\n",
      "Password accepted\n",
      "Password accepted\n",
      "Password accepted\n",
      "Password accepted\n",
      "Password accepted\n",
      "Password accepted\n",
      "Password accepted\n",
      "Password accepted\n",
      "Password accepted\n",
      "Password accepted\n",
      "Password accepted\n",
      "Password accepted\n",
      "Password accepted\n",
      "Password accepted\n",
      "Password accepted\n",
      "Password accepted\n",
      "Password accepted\n",
      "Password accepted\n",
      "Password accepted\n",
      "Password accepted\n",
      "Password accepted\n",
      "Password accepted\n",
      "Password accepted\n",
      "Password accepted\n",
      "Password accepted\n",
      "Password accepted\n",
      "Password accepted\n",
      "Password accepted\n",
      "Password accepted\n",
      "Password accepted\n",
      "Password accepted\n",
      "Password accepted\n",
      "Password accepted\n",
      "Password accepted\n"
     ]
    }
   ],
   "source": [
    "#Crear usuarios  46\n",
    "\n",
    "#Crear usuarios\n",
    "import random\n",
    "users = {}\n",
    "\n",
    "for i in range(len(names)):   \n",
    "    users['user' + str(i+1)] = app.User(i+1, 'user' + str(i+1), names[i], telf_generator(), cities[i])\n",
    "list_users = list(users.values())\n",
    "\n",
    "#Validar usuarios (Ponerle contraseña):\n",
    "validation = [user.set_password(password) for user in list_users]\n",
    "\n"
   ]
  },
  {
   "cell_type": "code",
   "execution_count": 6,
   "metadata": {},
   "outputs": [
    {
     "data": {
      "text/plain": [
       "(2, 'user2', 'Carlos Mendez', 'Mollet')"
      ]
     },
     "execution_count": 6,
     "metadata": {},
     "output_type": "execute_result"
    }
   ],
   "source": [
    "users['user2'].check_profile()"
   ]
  },
  {
   "cell_type": "code",
   "execution_count": 7,
   "metadata": {},
   "outputs": [
    {
     "data": {
      "text/plain": [
       "(3, 'user3', 'Victor Segura', 'Barcelona')"
      ]
     },
     "execution_count": 7,
     "metadata": {},
     "output_type": "execute_result"
    }
   ],
   "source": [
    "list_users[2].check_profile()"
   ]
  },
  {
   "cell_type": "code",
   "execution_count": 47,
   "metadata": {},
   "outputs": [
    {
     "data": {
      "text/plain": [
       "['In',\n",
       " 'Matrix_app',\n",
       " 'Out',\n",
       " '_',\n",
       " '_10',\n",
       " '_15',\n",
       " '_17',\n",
       " '_18',\n",
       " '_20',\n",
       " '_22',\n",
       " '_23',\n",
       " '_24',\n",
       " '_25',\n",
       " '_27',\n",
       " '_28',\n",
       " '_29',\n",
       " '_3',\n",
       " '_31',\n",
       " '_32',\n",
       " '_33',\n",
       " '_41',\n",
       " '_43',\n",
       " '_45',\n",
       " '_46',\n",
       " '_6',\n",
       " '_7',\n",
       " '_9',\n",
       " '__',\n",
       " '___',\n",
       " '__builtin__',\n",
       " '__builtins__',\n",
       " '__doc__',\n",
       " '__loader__',\n",
       " '__name__',\n",
       " '__package__',\n",
       " '__spec__',\n",
       " '_dh',\n",
       " '_i',\n",
       " '_i1',\n",
       " '_i10',\n",
       " '_i11',\n",
       " '_i12',\n",
       " '_i13',\n",
       " '_i14',\n",
       " '_i15',\n",
       " '_i16',\n",
       " '_i17',\n",
       " '_i18',\n",
       " '_i19',\n",
       " '_i2',\n",
       " '_i20',\n",
       " '_i21',\n",
       " '_i22',\n",
       " '_i23',\n",
       " '_i24',\n",
       " '_i25',\n",
       " '_i26',\n",
       " '_i27',\n",
       " '_i28',\n",
       " '_i29',\n",
       " '_i3',\n",
       " '_i30',\n",
       " '_i31',\n",
       " '_i32',\n",
       " '_i33',\n",
       " '_i34',\n",
       " '_i35',\n",
       " '_i36',\n",
       " '_i37',\n",
       " '_i38',\n",
       " '_i39',\n",
       " '_i4',\n",
       " '_i40',\n",
       " '_i41',\n",
       " '_i42',\n",
       " '_i43',\n",
       " '_i44',\n",
       " '_i45',\n",
       " '_i46',\n",
       " '_i47',\n",
       " '_i5',\n",
       " '_i6',\n",
       " '_i7',\n",
       " '_i8',\n",
       " '_i9',\n",
       " '_ih',\n",
       " '_ii',\n",
       " '_iii',\n",
       " '_oh',\n",
       " 'ads',\n",
       " 'app',\n",
       " 'ax',\n",
       " 'cities',\n",
       " 'companies',\n",
       " 'df',\n",
       " 'df_money',\n",
       " 'exit',\n",
       " 'fig',\n",
       " 'get_ipython',\n",
       " 'i',\n",
       " 'index_app',\n",
       " 'index_raffle',\n",
       " 'l',\n",
       " 'list_ads',\n",
       " 'list_raffles',\n",
       " 'list_users',\n",
       " 'names',\n",
       " 'np',\n",
       " 'password',\n",
       " 'pd',\n",
       " 'plt',\n",
       " 'quit',\n",
       " 'raffle',\n",
       " 'raffles',\n",
       " 'raffles_name',\n",
       " 'random',\n",
       " 'start',\n",
       " 'telf_generator',\n",
       " 'tuple_ad_raffle',\n",
       " 'users',\n",
       " 'validation',\n",
       " 'x',\n",
       " 'y']"
      ]
     },
     "execution_count": 47,
     "metadata": {},
     "output_type": "execute_result"
    }
   ],
   "source": [
    "dir()"
   ]
  },
  {
   "cell_type": "code",
   "execution_count": 8,
   "metadata": {},
   "outputs": [],
   "source": [
    "#Crear anuncios\n",
    "\n",
    "ads = {}\n",
    "\n",
    "for i in range(len(companies)):\n",
    "    ads['ad' + str(i+1)] = app.Ad('ad' + str(i+1), companies[i], np.random.choice(np.arange(0.1, 5, 0.1)))\n",
    "\n",
    "list_ads = list(ads.values())"
   ]
  },
  {
   "cell_type": "code",
   "execution_count": 9,
   "metadata": {},
   "outputs": [
    {
     "data": {
      "text/plain": [
       "[<application.Ad at 0x7fab18240f50>,\n",
       " <application.Ad at 0x7faaf0ba0410>,\n",
       " <application.Ad at 0x7faaf09140d0>,\n",
       " <application.Ad at 0x7faaf0914190>,\n",
       " <application.Ad at 0x7faaf0914250>,\n",
       " <application.Ad at 0x7faaf0914310>,\n",
       " <application.Ad at 0x7faaf09143d0>]"
      ]
     },
     "execution_count": 9,
     "metadata": {},
     "output_type": "execute_result"
    }
   ],
   "source": [
    "list_ads"
   ]
  },
  {
   "cell_type": "code",
   "execution_count": 10,
   "metadata": {},
   "outputs": [
    {
     "data": {
      "text/plain": [
       "3.5000000000000004"
      ]
     },
     "execution_count": 10,
     "metadata": {},
     "output_type": "execute_result"
    }
   ],
   "source": [
    "np.random.choice(np.arange(0.1, 5, 0.1))"
   ]
  },
  {
   "cell_type": "code",
   "execution_count": 11,
   "metadata": {},
   "outputs": [],
   "source": [
    "#Crear raffles\n",
    "\n",
    "raffles = {}\n",
    "\n",
    "for i in range(len(companies)):\n",
    "    raffles['ad' + str(i+1)] = app.Raffle('ad' + str(i+1), raffles_name[i], list_ads[i],\n",
    "                                          duration = np.random.choice(np.arange(60, 360, 1)))\n",
    "\n",
    "list_raffles = list(raffles.values())\n"
   ]
  },
  {
   "cell_type": "code",
   "execution_count": 12,
   "metadata": {},
   "outputs": [
    {
     "name": "stdout",
     "output_type": "stream",
     "text": [
      " The prize money is: 0 \n",
      " The duration of the raffle is 106 seconds \n",
      " It finishes at 0 \n",
      " The number of winners is 1\n"
     ]
    }
   ],
   "source": [
    "list_raffles[6].show_properties()"
   ]
  },
  {
   "cell_type": "code",
   "execution_count": 13,
   "metadata": {},
   "outputs": [],
   "source": [
    "#Start Raffles\n",
    "\n",
    "start = [x.start_zerotime_raffle() for x in list_raffles]"
   ]
  },
  {
   "cell_type": "code",
   "execution_count": 14,
   "metadata": {},
   "outputs": [
    {
     "name": "stdout",
     "output_type": "stream",
     "text": [
      "You are connected now\n",
      "You are connected now\n",
      "You are connected now\n",
      "You are connected now\n",
      "You are connected now\n",
      "You are connected now\n",
      "You are connected now\n",
      "You are connected now\n",
      "You are connected now\n",
      "You are connected now\n",
      "You are connected now\n",
      "You are connected now\n",
      "You are connected now\n",
      "You are connected now\n",
      "You are connected now\n",
      "You are connected now\n",
      "You are connected now\n",
      "You are connected now\n",
      "You are connected now\n",
      "You are connected now\n",
      "You are connected now\n",
      "You are connected now\n",
      "You are connected now\n",
      "You are connected now\n",
      "You are connected now\n",
      "You are connected now\n",
      "You are connected now\n",
      "You are connected now\n",
      "You are connected now\n",
      "You are connected now\n",
      "You are connected now\n",
      "You are connected now\n",
      "You are connected now\n",
      "You are connected now\n",
      "You are connected now\n",
      "You are connected now\n",
      "You are connected now\n",
      "You are connected now\n",
      "You are connected now\n",
      "You are connected now\n",
      "You are connected now\n",
      "You are connected now\n",
      "You are connected now\n",
      "You are connected now\n",
      "You are connected now\n",
      "You are connected now\n",
      "You are participating in the Sorteo extremo.\n",
      "You are participating in the Food Raffle.\n",
      "You are participating in the Sorteo de la Luz.\n",
      "You are participating in the Sorteo de Einstein.\n",
      "You are participating in the Sorteo extremo.\n",
      "You are participating in the Sorteo de la Luz.\n",
      "You are participating in the Sorteo extremo.\n",
      "You are participating in the Sorteo Messi.\n",
      "You are participating in the Sorteo extremo.\n",
      "You are participating in the Sorteo de la Luz.\n",
      "You are participating in the Sorteo energético.\n",
      "You are participating in the Sorteo energético.\n",
      "You are participating in the Sorteo Messi.\n",
      "You are participating in the Sorteo de Einstein.\n",
      "You are participating in the Sorteo de la moda.\n",
      "You are participating in the Food Raffle.\n",
      "You are participating in the Food Raffle.\n",
      "You are participating in the Sorteo de Einstein.\n",
      "You are participating in the Sorteo de la Luz.\n",
      "You are participating in the Sorteo Messi.\n",
      "You are participating in the Sorteo Messi.\n",
      "You are participating in the Sorteo Messi.\n",
      "You are participating in the Sorteo de la Luz.\n",
      "You are participating in the Sorteo de la Luz.\n",
      "You are participating in the Food Raffle.\n",
      "You are participating in the Sorteo de Einstein.\n",
      "You are participating in the Sorteo de la moda.\n",
      "You are participating in the Sorteo extremo.\n",
      "You are participating in the Sorteo extremo.\n",
      "You are participating in the Sorteo de la moda.\n",
      "You are participating in the Sorteo energético.\n",
      "You are participating in the Food Raffle.\n",
      "You are participating in the Sorteo de Einstein.\n",
      "You are participating in the Sorteo energético.\n",
      "You are participating in the Sorteo de Einstein.\n",
      "You are participating in the Food Raffle.\n",
      "You are participating in the Sorteo energético.\n",
      "You are participating in the Food Raffle.\n",
      "You are participating in the Sorteo de la moda.\n",
      "You are participating in the Sorteo energético.\n",
      "You are participating in the Sorteo extremo.\n",
      "You are participating in the Sorteo Messi.\n",
      "You are participating in the Sorteo de Einstein.\n",
      "You are participating in the Sorteo extremo.\n",
      "You are participating in the Sorteo de Einstein.\n",
      "You are participating in the Sorteo energético.\n",
      "You are participating in the Sorteo energético.\n",
      "You are participating in the Sorteo energético.\n",
      "You are participating in the Sorteo extremo.\n",
      "You are participating in the Sorteo extremo.\n",
      "You are participating in the Food Raffle.\n",
      "You are participating in the Sorteo energético.\n",
      "You are participating in the Food Raffle.\n",
      "You are participating in the Sorteo de Einstein.\n",
      "You are participating in the Sorteo extremo.\n",
      "You are participating in the Food Raffle.\n",
      "You are participating in the Sorteo extremo.\n",
      "You are participating in the Sorteo extremo.\n",
      "You are participating in the Sorteo extremo.\n",
      "You are participating in the Sorteo de la Luz.\n",
      "You are participating in the Food Raffle.\n",
      "You are participating in the Sorteo de Einstein.\n",
      "You are participating in the Sorteo de la Luz.\n",
      "You are participating in the Sorteo extremo.\n",
      "You are participating in the Sorteo de Einstein.\n",
      "You are participating in the Sorteo Messi.\n",
      "You are participating in the Sorteo extremo.\n",
      "You are participating in the Sorteo energético.\n",
      "You are participating in the Sorteo de Einstein.\n",
      "You are participating in the Sorteo energético.\n",
      "You are participating in the Sorteo de la Luz.\n",
      "You are participating in the Food Raffle.\n",
      "You are participating in the Sorteo de la Luz.\n",
      "You are participating in the Sorteo Messi.\n",
      "You are participating in the Food Raffle.\n",
      "You are participating in the Sorteo de la moda.\n",
      "You are participating in the Sorteo energético.\n",
      "You are participating in the Sorteo de Einstein.\n",
      "You are participating in the Sorteo de la Luz.\n",
      "You are participating in the Sorteo energético.\n",
      "You are participating in the Sorteo Messi.\n",
      "You are participating in the Sorteo energético.\n",
      "You are participating in the Sorteo energético.\n",
      "You are participating in the Sorteo de la Luz.\n",
      "You are participating in the Sorteo de la moda.\n",
      "You are participating in the Sorteo de Einstein.\n",
      "You are participating in the Sorteo de Einstein.\n",
      "You are participating in the Sorteo energético.\n",
      "You are participating in the Sorteo energético.\n",
      "You are participating in the Sorteo Messi.\n",
      "You are participating in the Sorteo Messi.\n",
      "You are participating in the Food Raffle.\n",
      "You are participating in the Sorteo energético.\n",
      "You are participating in the Food Raffle.\n",
      "You are participating in the Sorteo de la Luz.\n",
      "You are participating in the Sorteo Messi.\n",
      "You are participating in the Sorteo de Einstein.\n",
      "You are participating in the Sorteo de la Luz.\n",
      "You are participating in the Sorteo de la moda.\n",
      "You are participating in the Sorteo Messi.\n",
      "You are participating in the Sorteo de Einstein.\n",
      "You are participating in the Sorteo de la Luz.\n",
      "You are participating in the Sorteo de Einstein.\n",
      "You are participating in the Food Raffle.\n",
      "You are participating in the Sorteo de Einstein.\n",
      "You are participating in the Sorteo de la Luz.\n",
      "You are participating in the Sorteo de la Luz.\n",
      "You are participating in the Food Raffle.\n",
      "You are participating in the Sorteo de Einstein.\n",
      "You are participating in the Food Raffle.\n",
      "You are participating in the Sorteo energético.\n",
      "You are participating in the Sorteo de la Luz.\n",
      "You are participating in the Sorteo de la moda.\n",
      "You are participating in the Sorteo energético.\n",
      "You are participating in the Sorteo energético.\n",
      "You are participating in the Sorteo extremo.\n",
      "You are participating in the Food Raffle.\n",
      "You are participating in the Sorteo extremo.\n",
      "You are participating in the Sorteo de la Luz.\n",
      "You are participating in the Sorteo de Einstein.\n",
      "You are participating in the Food Raffle.\n",
      "You are participating in the Sorteo de la Luz.\n",
      "You are participating in the Food Raffle.\n",
      "You are participating in the Food Raffle.\n",
      "You are participating in the Sorteo de la moda.\n",
      "You are participating in the Sorteo de la moda.\n",
      "You are participating in the Sorteo Messi.\n",
      "You are participating in the Sorteo extremo.\n",
      "You are participating in the Food Raffle.\n",
      "You are participating in the Sorteo de la moda.\n",
      "You are participating in the Sorteo de Einstein.\n",
      "You are participating in the Food Raffle.\n",
      "You are participating in the Sorteo Messi.\n",
      "You are participating in the Sorteo Messi.\n",
      "You are participating in the Sorteo extremo.\n",
      "You are participating in the Sorteo energético.\n",
      "You are participating in the Food Raffle.\n",
      "You are participating in the Sorteo de Einstein.\n",
      "You are participating in the Sorteo extremo.\n",
      "You are participating in the Sorteo de la moda.\n",
      "You are participating in the Sorteo de la moda.\n",
      "You are participating in the Sorteo extremo.\n",
      "You are participating in the Sorteo extremo.\n",
      "You are participating in the Sorteo energético.\n",
      "You are participating in the Sorteo de la moda.\n",
      "You are participating in the Sorteo extremo.\n",
      "You are participating in the Sorteo de Einstein.\n",
      "You are participating in the Sorteo de la Luz.\n",
      "You are participating in the Sorteo extremo.\n",
      "You are participating in the Sorteo energético.\n",
      "You are participating in the Sorteo de la moda.\n",
      "You are participating in the Sorteo energético.\n",
      "You are participating in the Sorteo energético.\n",
      "You are participating in the Sorteo extremo.\n",
      "You are participating in the Sorteo de Einstein.\n",
      "You are participating in the Sorteo energético.\n",
      "You are participating in the Sorteo de la Luz.\n",
      "You are participating in the Food Raffle.\n",
      "You are participating in the Sorteo energético.\n",
      "You are participating in the Sorteo extremo.\n",
      "You are participating in the Sorteo de la Luz.\n",
      "You are participating in the Sorteo de Einstein.\n",
      "You are participating in the Sorteo de Einstein.\n",
      "You are participating in the Sorteo de la Luz.\n",
      "You are participating in the Sorteo de la Luz.\n",
      "You are participating in the Sorteo de Einstein.\n",
      "You are participating in the Sorteo Messi.\n",
      "You are participating in the Sorteo energético.\n",
      "You are participating in the Sorteo de la Luz.\n",
      "You are participating in the Sorteo de Einstein.\n",
      "You are participating in the Sorteo de la Luz.\n",
      "You are participating in the Sorteo de la moda.\n",
      "You are participating in the Sorteo de Einstein.\n",
      "You are participating in the Sorteo extremo.\n",
      "You are participating in the Sorteo de la moda.\n",
      "You are participating in the Sorteo de la moda.\n",
      "You are participating in the Sorteo de la Luz.\n",
      "You are participating in the Sorteo Messi.\n",
      "You are participating in the Sorteo de Einstein.\n",
      "You are participating in the Food Raffle.\n",
      "You are participating in the Sorteo de la moda.\n",
      "You are participating in the Sorteo de la moda.\n",
      "You are participating in the Food Raffle.\n"
     ]
    },
    {
     "name": "stdout",
     "output_type": "stream",
     "text": [
      "You are participating in the Sorteo de la Luz.\n",
      "You are participating in the Food Raffle.\n",
      "You are participating in the Sorteo energético.\n",
      "You are participating in the Sorteo de la Luz.\n",
      "You are participating in the Sorteo Messi.\n",
      "You are participating in the Food Raffle.\n",
      "You are participating in the Sorteo Messi.\n",
      "You are participating in the Sorteo de Einstein.\n",
      "You are participating in the Sorteo de Einstein.\n",
      "You are participating in the Sorteo energético.\n",
      "You are participating in the Sorteo extremo.\n",
      "You are participating in the Sorteo de la moda.\n",
      "You are participating in the Sorteo de Einstein.\n",
      "You are participating in the Sorteo energético.\n",
      "You are participating in the Sorteo extremo.\n",
      "You are participating in the Sorteo de la moda.\n",
      "You are participating in the Sorteo de la moda.\n",
      "You are participating in the Sorteo de la moda.\n",
      "You are participating in the Sorteo energético.\n",
      "You are participating in the Sorteo Messi.\n",
      "You are participating in the Sorteo Messi.\n",
      "You are participating in the Food Raffle.\n",
      "You are participating in the Sorteo energético.\n",
      "You are participating in the Sorteo de Einstein.\n",
      "You are participating in the Sorteo de la moda.\n",
      "You are participating in the Sorteo de la moda.\n",
      "You are participating in the Food Raffle.\n",
      "You are participating in the Sorteo energético.\n",
      "You are participating in the Sorteo de la moda.\n",
      "You are participating in the Sorteo de la Luz.\n",
      "You are participating in the Sorteo extremo.\n",
      "You are participating in the Sorteo de Einstein.\n",
      "You are participating in the Sorteo Messi.\n",
      "You are participating in the Sorteo de la Luz.\n",
      "You are participating in the Sorteo Messi.\n",
      "You are participating in the Sorteo de Einstein.\n",
      "You are participating in the Sorteo de Einstein.\n",
      "You are participating in the Sorteo extremo.\n",
      "You are participating in the Sorteo de Einstein.\n",
      "You are participating in the Food Raffle.\n",
      "You are participating in the Sorteo Messi.\n",
      "You are participating in the Sorteo de la Luz.\n",
      "You are participating in the Sorteo de la Luz.\n",
      "You are participating in the Sorteo de Einstein.\n",
      "You are participating in the Sorteo Messi.\n",
      "You are participating in the Food Raffle.\n",
      "You are participating in the Sorteo de Einstein.\n",
      "You are participating in the Sorteo Messi.\n",
      "You are participating in the Sorteo de la moda.\n",
      "You are participating in the Food Raffle.\n",
      "You are participating in the Sorteo de la moda.\n",
      "You are participating in the Food Raffle.\n",
      "You are participating in the Sorteo de la Luz.\n",
      "You are participating in the Food Raffle.\n",
      "You are participating in the Food Raffle.\n",
      "You are participating in the Sorteo energético.\n",
      "You are participating in the Sorteo Messi.\n",
      "You are participating in the Food Raffle.\n",
      "You are participating in the Sorteo de la moda.\n",
      "You are participating in the Sorteo de la moda.\n",
      "You are participating in the Sorteo extremo.\n",
      "You are participating in the Sorteo extremo.\n",
      "You are participating in the Sorteo extremo.\n",
      "You are participating in the Sorteo Messi.\n",
      "You are participating in the Sorteo de Einstein.\n",
      "You are participating in the Sorteo de la moda.\n",
      "You are participating in the Sorteo extremo.\n",
      "You are participating in the Sorteo energético.\n",
      "You are participating in the Sorteo de Einstein.\n",
      "You are participating in the Sorteo de Einstein.\n",
      "You are participating in the Sorteo extremo.\n",
      "You are participating in the Sorteo energético.\n",
      "You are participating in the Sorteo de la Luz.\n",
      "You are participating in the Sorteo de la moda.\n",
      "You are participating in the Sorteo de la moda.\n",
      "You are participating in the Sorteo energético.\n",
      "You are participating in the Sorteo de la moda.\n",
      "You are participating in the Sorteo extremo.\n",
      "You are participating in the Sorteo de la moda.\n",
      "You are participating in the Sorteo de Einstein.\n",
      "You are participating in the Sorteo energético.\n",
      "You are participating in the Sorteo Messi.\n",
      "You are participating in the Sorteo extremo.\n",
      "You are participating in the Sorteo de la moda.\n",
      "You are participating in the Food Raffle.\n",
      "You are participating in the Food Raffle.\n",
      "You are participating in the Sorteo de la Luz.\n",
      "You are participating in the Sorteo Messi.\n",
      "You are participating in the Sorteo Messi.\n",
      "You are participating in the Sorteo de la moda.\n",
      "You are participating in the Sorteo de la Luz.\n",
      "You are participating in the Sorteo extremo.\n",
      "You are participating in the Sorteo de la moda.\n",
      "You are participating in the Sorteo energético.\n",
      "You are participating in the Sorteo energético.\n",
      "You are participating in the Sorteo Messi.\n",
      "You are participating in the Sorteo extremo.\n",
      "You are participating in the Food Raffle.\n",
      "You are participating in the Sorteo extremo.\n",
      "You are participating in the Sorteo extremo.\n",
      "You are participating in the Sorteo de la moda.\n",
      "You are participating in the Sorteo extremo.\n",
      "You are participating in the Sorteo de la Luz.\n",
      "You are participating in the Sorteo extremo.\n",
      "You are participating in the Sorteo Messi.\n",
      "You are participating in the Sorteo Messi.\n",
      "You are participating in the Sorteo de la Luz.\n",
      "You are participating in the Sorteo Messi.\n",
      "You are participating in the Sorteo de la Luz.\n",
      "You are participating in the Sorteo de la moda.\n",
      "You are participating in the Sorteo extremo.\n",
      "You are participating in the Sorteo extremo.\n",
      "You are participating in the Food Raffle.\n",
      "You are participating in the Sorteo energético.\n",
      "You are participating in the Food Raffle.\n",
      "You are participating in the Sorteo de Einstein.\n",
      "You are participating in the Sorteo energético.\n",
      "You are participating in the Food Raffle.\n",
      "You are participating in the Sorteo extremo.\n",
      "You are participating in the Sorteo extremo.\n",
      "You are participating in the Sorteo de la moda.\n",
      "You are participating in the Sorteo energético.\n",
      "You are participating in the Sorteo extremo.\n",
      "You are participating in the Sorteo de Einstein.\n",
      "You are participating in the Sorteo Messi.\n",
      "You are participating in the Sorteo de Einstein.\n",
      "You are participating in the Sorteo de la Luz.\n",
      "You are participating in the Sorteo Messi.\n",
      "You are participating in the Sorteo de la Luz.\n",
      "You are participating in the Sorteo Messi.\n",
      "You are participating in the Sorteo de la Luz.\n",
      "You are participating in the Sorteo de la Luz.\n",
      "You are participating in the Sorteo extremo.\n",
      "You are participating in the Food Raffle.\n",
      "You are participating in the Sorteo energético.\n",
      "You are participating in the Sorteo de la Luz.\n",
      "You are participating in the Sorteo energético.\n",
      "You are participating in the Sorteo de la moda.\n",
      "You are participating in the Sorteo de la Luz.\n"
     ]
    }
   ],
   "source": [
    "#Simular interacciones de usuarios\n",
    "\n",
    "\n",
    "#Definiré acciones de abrir aplicacion, conectarme y ver anuncio\n",
    "#Defino una matriz aplicacion donde cada fila es un objeto App que usa un usuario, cada fila es un movil\n",
    "\n",
    "Matrix_app = []\n",
    "for i in range(len(list_users)):\n",
    "    Matrix_app.append(app.App(list_users, list_ads, list_raffles))\n",
    "    Matrix_app[i].connect(list_users[i].check_profile()[1], password)\n",
    "\n",
    "#Random usuarios participan de forma random en sorteos\n",
    "\n",
    "for i in range(len(list_users) * len(list_ads)): \n",
    "    index_app = np.random.choice(list(range(len(Matrix_app))))\n",
    "    index_raffle = np.random.choice(list(range(len(list_raffles))))\n",
    "    Matrix_app[index_app].choose_raffle(list_raffles[index_raffle].get_properties()['name'])"
   ]
  },
  {
   "cell_type": "code",
   "execution_count": 25,
   "metadata": {},
   "outputs": [
    {
     "data": {
      "text/plain": [
       "[{'name': 'Sorteo energético',\n",
       "  'money': 0,\n",
       "  'id_raffle': 'ad1',\n",
       "  'duration': 130,\n",
       "  'time_raffle': datetime.datetime(2020, 7, 13, 22, 26, 57, 583424),\n",
       "  'number_winners': 1},\n",
       " {'name': 'Sorteo de Einstein',\n",
       "  'money': 0,\n",
       "  'id_raffle': 'ad2',\n",
       "  'duration': 210,\n",
       "  'time_raffle': datetime.datetime(2020, 7, 13, 22, 28, 17, 583516),\n",
       "  'number_winners': 1},\n",
       " {'name': 'Sorteo de la Luz',\n",
       "  'money': 0,\n",
       "  'id_raffle': 'ad3',\n",
       "  'duration': 265,\n",
       "  'time_raffle': datetime.datetime(2020, 7, 13, 22, 29, 12, 583535),\n",
       "  'number_winners': 1},\n",
       " {'name': 'Food Raffle',\n",
       "  'money': 0,\n",
       "  'id_raffle': 'ad4',\n",
       "  'duration': 210,\n",
       "  'time_raffle': datetime.datetime(2020, 7, 13, 22, 28, 17, 583547),\n",
       "  'number_winners': 1},\n",
       " {'name': 'Sorteo extremo',\n",
       "  'money': 0,\n",
       "  'id_raffle': 'ad5',\n",
       "  'duration': 323,\n",
       "  'time_raffle': datetime.datetime(2020, 7, 13, 22, 30, 10, 583558),\n",
       "  'number_winners': 1},\n",
       " {'name': 'Sorteo Messi',\n",
       "  'money': 0,\n",
       "  'id_raffle': 'ad6',\n",
       "  'duration': 95,\n",
       "  'time_raffle': datetime.datetime(2020, 7, 13, 22, 26, 22, 583567),\n",
       "  'number_winners': 1},\n",
       " {'name': 'Sorteo de la moda',\n",
       "  'money': 0,\n",
       "  'id_raffle': 'ad7',\n",
       "  'duration': 106,\n",
       "  'time_raffle': datetime.datetime(2020, 7, 13, 22, 26, 33, 583577),\n",
       "  'number_winners': 1}]"
      ]
     },
     "execution_count": 25,
     "metadata": {},
     "output_type": "execute_result"
    }
   ],
   "source": [
    "#Un usuario de los que se ha conectado mira los premios disponibles y escoge uno:\n",
    "Matrix_app[12].see_available_raffles()"
   ]
  },
  {
   "cell_type": "code",
   "execution_count": 26,
   "metadata": {},
   "outputs": [
    {
     "name": "stdout",
     "output_type": "stream",
     "text": [
      "You have not win any prize yet\n"
     ]
    }
   ],
   "source": [
    "Matrix_app[12].collect_prize(password)"
   ]
  },
  {
   "cell_type": "code",
   "execution_count": 27,
   "metadata": {},
   "outputs": [
    {
     "data": {
      "text/plain": [
       "(13, 'user13', 'Gol d Roger', 'Sant Andreu')"
      ]
     },
     "execution_count": 27,
     "metadata": {},
     "output_type": "execute_result"
    }
   ],
   "source": [
    "Matrix_app[12].see_main_user()"
   ]
  },
  {
   "cell_type": "code",
   "execution_count": 32,
   "metadata": {},
   "outputs": [
    {
     "data": {
      "text/html": [
       "<div>\n",
       "<style scoped>\n",
       "    .dataframe tbody tr th:only-of-type {\n",
       "        vertical-align: middle;\n",
       "    }\n",
       "\n",
       "    .dataframe tbody tr th {\n",
       "        vertical-align: top;\n",
       "    }\n",
       "\n",
       "    .dataframe thead th {\n",
       "        text-align: right;\n",
       "    }\n",
       "</style>\n",
       "<table border=\"1\" class=\"dataframe\">\n",
       "  <thead>\n",
       "    <tr style=\"text-align: right;\">\n",
       "      <th></th>\n",
       "      <th>Winners</th>\n",
       "      <th>Raffle</th>\n",
       "      <th>Prize (€)</th>\n",
       "    </tr>\n",
       "  </thead>\n",
       "  <tbody>\n",
       "    <tr>\n",
       "      <th>0</th>\n",
       "      <td>Nico Piedra</td>\n",
       "      <td>Sorteo energético</td>\n",
       "      <td>72.5</td>\n",
       "    </tr>\n",
       "    <tr>\n",
       "      <th>1</th>\n",
       "      <td>Oscar Monge</td>\n",
       "      <td>Sorteo de Einstein</td>\n",
       "      <td>86.4</td>\n",
       "    </tr>\n",
       "    <tr>\n",
       "      <th>2</th>\n",
       "      <td>Carlos Soto</td>\n",
       "      <td>Sorteo de la Luz</td>\n",
       "      <td>95.2</td>\n",
       "    </tr>\n",
       "    <tr>\n",
       "      <th>3</th>\n",
       "      <td>Ivan Moreno</td>\n",
       "      <td>Food Raffle</td>\n",
       "      <td>31.9</td>\n",
       "    </tr>\n",
       "    <tr>\n",
       "      <th>4</th>\n",
       "      <td>Xavi Guerrero</td>\n",
       "      <td>Sorteo extremo</td>\n",
       "      <td>124.7</td>\n",
       "    </tr>\n",
       "    <tr>\n",
       "      <th>5</th>\n",
       "      <td>Victor Garcia</td>\n",
       "      <td>Sorteo Messi</td>\n",
       "      <td>65.0</td>\n",
       "    </tr>\n",
       "    <tr>\n",
       "      <th>6</th>\n",
       "      <td>Mario Luna</td>\n",
       "      <td>Sorteo de la moda</td>\n",
       "      <td>89.9</td>\n",
       "    </tr>\n",
       "  </tbody>\n",
       "</table>\n",
       "</div>"
      ],
      "text/plain": [
       "         Winners              Raffle  Prize (€)\n",
       "0    Nico Piedra   Sorteo energético       72.5\n",
       "1    Oscar Monge  Sorteo de Einstein       86.4\n",
       "2    Carlos Soto    Sorteo de la Luz       95.2\n",
       "3    Ivan Moreno         Food Raffle       31.9\n",
       "4  Xavi Guerrero      Sorteo extremo      124.7\n",
       "5  Victor Garcia        Sorteo Messi       65.0\n",
       "6     Mario Luna   Sorteo de la moda       89.9"
      ]
     },
     "execution_count": 32,
     "metadata": {},
     "output_type": "execute_result"
    }
   ],
   "source": [
    "Matrix_app[11].see_winners()"
   ]
  },
  {
   "cell_type": "markdown",
   "metadata": {},
   "source": [
    "# ESTADISTICAS"
   ]
  },
  {
   "cell_type": "code",
   "execution_count": 19,
   "metadata": {},
   "outputs": [],
   "source": [
    "#Ver premios sorteos y estadisticas ganadores\n",
    "#Puedo ver el numero de visualizaciones de cada anuncio y hacer grafico de barras\n",
    "#Puedo ver lo que han ganado cada uno en grafico de barras tambien\n",
    "\n"
   ]
  },
  {
   "cell_type": "code",
   "execution_count": 33,
   "metadata": {},
   "outputs": [
    {
     "data": {
      "text/plain": [
       "0      Nico Piedra\n",
       "1      Oscar Monge\n",
       "2      Carlos Soto\n",
       "3      Ivan Moreno\n",
       "4    Xavi Guerrero\n",
       "5    Victor Garcia\n",
       "6       Mario Luna\n",
       "Name: Winners, dtype: object"
      ]
     },
     "execution_count": 33,
     "metadata": {},
     "output_type": "execute_result"
    }
   ],
   "source": [
    "df = Matrix_app[12].see_winners()\n",
    "df.Winners"
   ]
  },
  {
   "cell_type": "code",
   "execution_count": 34,
   "metadata": {},
   "outputs": [
    {
     "data": {
      "image/png": "[encoded data removed]",
      "text/plain": [
       "<Figure size 936x288 with 1 Axes>"
      ]
     },
     "metadata": {
      "needs_background": "light"
     },
     "output_type": "display_data"
    }
   ],
   "source": [
    "#Primera estadistica\n",
    "from matplotlib import pyplot as plt\n",
    "fig, ax = plt.subplots(figsize=(13,4))\n",
    "df.plot(kind = 'bar', x = 'Winners', y= 'Prize (€)', ax= ax )\n",
    "ax.grid()"
   ]
  },
  {
   "cell_type": "code",
   "execution_count": 36,
   "metadata": {},
   "outputs": [],
   "source": [
    "#2a estadística\n",
    "import pandas as pd\n",
    "tuple_ad_raffle = list()\n",
    "for raffle in list_raffles:\n",
    "    tuple_ad_raffle.append((list(raffle.get_properties().items()), raffle.get_ad_associated().show_properties()))\n",
    "tuple_ad_raffle\n",
    "x = [x[0][0][1] for x in tuple_ad_raffle]\n",
    "y =  [x[1][3] for x in tuple_ad_raffle]\n",
    "df_money = pd.DataFrame({'Sorteo': x, 'Visualizaciones': y})"
   ]
  },
  {
   "cell_type": "code",
   "execution_count": 37,
   "metadata": {},
   "outputs": [],
   "source": [
    "df_money.set_index('Sorteo', inplace=True)"
   ]
  },
  {
   "cell_type": "code",
   "execution_count": 39,
   "metadata": {},
   "outputs": [
    {
     "data": {
      "image/png": "[encoded data removed]",
      "text/plain": [
       "<Figure size 936x288 with 1 Axes>"
      ]
     },
     "metadata": {
      "needs_background": "light"
     },
     "output_type": "display_data"
    }
   ],
   "source": [
    "fig, ax = plt.subplots(figsize=(13,4))\n",
    "df_money.plot(kind='bar', ax=ax)\n",
    "ax.set_xlabel('Raffle')\n",
    "ax.set_ylabel('Visualizaciones')\n",
    "ax.grid()\n",
    "plt.tight_layout()"
   ]
  }
 ],
 "metadata": {
  "kernelspec": {
   "display_name": "Python 3",
   "language": "python",
   "name": "python3"
  },
  "language_info": {
   "codemirror_mode": {
    "name": "ipython",
    "version": 3
   },
   "file_extension": ".py",
   "mimetype": "text/x-python",
   "name": "python",
   "nbconvert_exporter": "python",
   "pygments_lexer": "ipython3",
   "version": "3.8.3"
  }
 },
 "nbformat": 4,
 "nbformat_minor": 4
}
