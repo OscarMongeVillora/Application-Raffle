{
 "cells": [
  {
   "cell_type": "code",
   "execution_count": 1,
   "metadata": {},
   "outputs": [],
   "source": [
    "from typing import Tuple, List, Dict\n",
    "from datetime import datetime\n",
    "import random\n",
    "import pandas as pd\n",
    "\n",
    "class User(object):\n",
    "    \n",
    "    def __init__(self, id_user: float, nick: str, name: str, bizum: float, location: str):\n",
    "        self._id_user = id_user\n",
    "        self._name = name\n",
    "        self._nick = nick\n",
    "        self._bizum = bizum\n",
    "        self._location = location\n",
    "        self._password = 0\n",
    "        self._configured = 0\n",
    "    \n",
    "    def set_password(self) -> None:\n",
    "        self._password = str(input('Introduce your password of 5 digits: '))\n",
    "        if len(self._password) != 5:\n",
    "            raise ValueError('Your password is not constructed using 5 digits, repeat again')\n",
    "        self._configured = 1\n",
    "        print('Password accepted')\n",
    "        \n",
    "    def _validate_password(self):\n",
    "        if self._configured == 1:\n",
    "            return self._password\n",
    "        else: \n",
    "            print('You are not validated in our datebase')\n",
    "    \n",
    "    def user_configured(self):\n",
    "        if self._configured == 1:\n",
    "            return True\n",
    "        else:\n",
    "            return False\n",
    "    \n",
    "    def check_profile(self) -> Tuple[str, str, str, str]:\n",
    "        return self._id_user, self._nick, self._name, self._location\n",
    "    \n",
    "    def obtain_bizum(self, nick:str, password: str) -> float:\n",
    "        if self._nick == nick:\n",
    "            if self._password == password:\n",
    "                return self._bizum\n",
    "            else:\n",
    "                raise ValueError('Your password is incorrect')\n",
    "        else:\n",
    "            raise ValueError('This nick not exist')\n",
    "               \n",
    "class Ad(object):\n",
    "    \n",
    "    \n",
    "    def __init__(self, id_ad: str, company: str, cost_per_visit : float):\n",
    "        self._id_ad = id_ad\n",
    "        self._company = company\n",
    "        self._cost_per_visit = cost_per_visit\n",
    "        self._users_seen = set()\n",
    "        self._number_visits = len(self._users_seen)\n",
    "    \n",
    "    def visualize(self, user: User)-> None:                   #An user can only register one visualization\n",
    "        #self._users_seen.append((user.check_id_name()[0])\n",
    "        self._users_seen.add(user)  #Creo una lista de objetos Usuarios\n",
    "        self._number_visits = len(self._users_seen)\n",
    "        \n",
    "    def show_properties(self):\n",
    "        return [self._id_ad, self._company, self._cost_per_visit, self._number_visits]\n",
    "    \n",
    "    def export_users(self):\n",
    "        return list(self._users_seen)\n",
    "    \n",
    "    \n",
    "        \n",
    "class Raffle(object):\n",
    "    \n",
    "    \n",
    "    def __init__(self, id_raffle: str, name: str, ad : Ad, duration : float = 60):\n",
    "        self._id_raffle = id_raffle\n",
    "        self._name_raffle = name\n",
    "        self._ad = ad   #Ojeto anuncio Asociado\n",
    "        self._id_ad = ad.show_properties()[0]\n",
    "        self._started = 0\n",
    "        self._finished = 0\n",
    "        \n",
    "        self._time_duration = duration #Seconds of a day\n",
    "        self._time_start = 0\n",
    "        self._time_raffle = 0\n",
    "        self._time_stop = 0\n",
    "             \n",
    "        \n",
    "        self._prize_money = 0\n",
    "        self._participants = list()\n",
    "        self._id_participants = list()\n",
    "        self._number_winners = 1\n",
    "        self._id_winners = list()\n",
    "        self._winners = list()\n",
    "        \n",
    "        \n",
    "      \n",
    "    def start_zerotime_raffle(self):\n",
    "        self._time_start = datetime.now()\n",
    "        self._time_raffle = self._time_duration + datetime.timestamp(self._time_start) #Add the duration\n",
    "        self._time_stop = datetime.fromtimestamp(self._time_raffle)  \n",
    "        self._started = 1\n",
    "        \n",
    "    def get_ad_associated(self):\n",
    "        return self._ad\n",
    "    \n",
    "    def calculate_prize_money(self):\n",
    "        if self.show_availability():\n",
    "            self._prize_money = float(self._ad.show_properties()[2]) * float(self._ad.show_properties()[3])\n",
    "            return self._prize_money\n",
    "        else:\n",
    "            print('The raffle has not started, the ad is not available')\n",
    "    \n",
    "        \n",
    "    def show_properties(self):\n",
    "        print(' The prize money is: {}'.format(self._prize_money),'\\n',\n",
    "         'The duration of the raffle is {} hours'.format(self._time_duration / 3600), '\\n',\n",
    "         'It finishes at {}'.format(self._time_stop), '\\n',\n",
    "         'The number of winners is {}'.format(self._number_winners))\n",
    "    \n",
    "    def get_properties(self):\n",
    "        properties_dict = {'name':  self._name_raffle,  'money': self._prize_money, 'id_raffle': self._id_raffle,\n",
    "                           'duration': self._time_duration, 'time_raffle': self._time_stop,\n",
    "                           'number_winners': self._number_winners}\n",
    "        return properties_dict\n",
    "        \n",
    "    def show_availability(self):\n",
    "        return self._started == 1\n",
    "    \n",
    "    def get_finished(self):\n",
    "        return self._finished == 1\n",
    "    \n",
    "    def refresh_raffle(self):\n",
    "        if (self._started == 1) & (datetime.now() > self._time_stop):\n",
    "            self.raffle_select_winners()\n",
    "        \n",
    "    def raffle_select_winners(self):\n",
    "        if self._finished == 1:    #I protect the method to avoid to repeat the specific raffle\n",
    "            pass\n",
    "            #return self._winners\n",
    "        else:\n",
    "            self._participants = self._ad.export_users()\n",
    "            self._id_participants = [x.check_profile()[0] for x in self._participants]\n",
    "            self._id_winners = random.sample(self._id_participants, k=self._number_winners)\n",
    "            self._winners = [x for x in self._participants if x.check_profile()[0] in self._id_winners]\n",
    "            self._finished = 1\n",
    "        \n",
    "            #return self._winners\n",
    "    \n",
    "    def announce_winners(self):  #Here will be the graphics of the raffle, this method have to be automatic when the app starts\n",
    "        \n",
    "        if self._finished == 1:\n",
    "            print('The winners are {} from {} with a prize per winner of {} €'\\\n",
    "                  .format([x.check_profile()[2] for x in self._winners], \n",
    "                          [x.check_profile()[3] for x in self._winners],\n",
    "                          self._prize_money / self._number_winners))\n",
    "            \n",
    "        elif self._started == 1:\n",
    "            time_check = datetime.timestamp(datetime.now())\n",
    "            remain_time = self._time_raffle - time_check\n",
    "            print('The raffle has not been finished, the winners will be choosed in {} hours, {} minutes, {} seconds'\\\n",
    "                  .format(round(remain_time / 60 /60), round(remain_time / 60),\n",
    "                          remain_time - round(round(remain_time / 60) * 60)))\n",
    "        \n",
    "        else:\n",
    "            print('The raffle has not started')\n",
    "        \n",
    "    def get_winners(self):\n",
    "        return self._winners\n",
    "        \n",
    "class App(object):  #An object of this class has to be used by any user, more than one users can be connected at the same time\n",
    "                    #However each user is using the App in his phone, so is opening a new sentence of App\n",
    "                    #Only activate one time for user as the installation\n",
    "        \n",
    "    def __init__(self,  list_users: [User], list_ads : [Ad], list_raffles: [Raffle]):\n",
    "        \n",
    "        self._users = {user.check_profile()[0] : user for user in list_users}\n",
    "        self._users_nick_id = {user.check_profile()[1] : user.check_profile()[0] for user in list_users}\n",
    "        self._ads = list_ads\n",
    "        self._raffles = list_raffles\n",
    "        self._main_user = object()\n",
    "        self._available_raffles = list()\n",
    "        self._finished_raffles = list()\n",
    "        self._user_connected = 0\n",
    "        self._raffle_prized_list= list()\n",
    "        self._prize = 0\n",
    "        self._winners_raffle_prize = list()\n",
    "        self._winners = list()\n",
    "        self._raffles_win = list()\n",
    "        self._raffles_final_prize_euros = list()\n",
    "        \n",
    "        \n",
    "    def connect(self, main_nick: str):     #Lo pasaría el usuario\n",
    "        if self._user_connected == 1:\n",
    "            print('You are already connected {}'.format(main_nick))\n",
    "            self.refresh()\n",
    "        else:\n",
    "            password = input('Introduce your password: ')\n",
    "            User = self._users[self._users_nick_id[main_nick]]\n",
    "            if password == User._validate_password():\n",
    "                self._main_user = User\n",
    "                self._user_connected = 1\n",
    "                print('You are connected now')\n",
    "                self.refresh()\n",
    "            \n",
    "    def disconnect(self):\n",
    "        if self._user_connected == 1:\n",
    "            self._user_connected = 0\n",
    "        else:\n",
    "            print('You are not connected already')\n",
    "        \n",
    "        \n",
    "    def see_available_raffles(self): #Generar grafica datos \n",
    "        self.refresh()\n",
    "        \n",
    "        if self._user_connected == 1:                   \n",
    "            screen_raffle = [x.get_properties() for x in self._available_raffles.values() \\\n",
    "                             if x not in self._finished_raffles.values()] #Con este if evitamos que vean sorteos ya premiados\n",
    "            return screen_raffle\n",
    "        else:\n",
    "            print('You are not logged in the App')\n",
    "            \n",
    "    def choose_raffle(self, name_raffle: str):   #You select with a push button the raffle\n",
    "        self.refresh()\n",
    "        \n",
    "        if self._user_connected == 1:\n",
    "            raffle_choosen = self._available_raffles[name_raffle] #If I want to choose with the Id I need to change how I \n",
    "                                                                    #create the dictionary    \n",
    "            question = input('Do you want to participate in the raffle? Write (y/n) ')\n",
    "            \n",
    "            if question == 'y':\n",
    "                self._participate_raffle(raffle_choosen)\n",
    "                print('You are participating in the {}.'.format(name_raffle))\n",
    "                return raffle_choosen.get_properties()\n",
    "            else:\n",
    "                print('Okey, is your decision')\n",
    "        \n",
    "        else:\n",
    "            print('You are not logged in the App')\n",
    "    \n",
    "    \n",
    "    def _participate_raffle(self, raffle_choosen: Raffle):  #I want this method to be private and we can only access since \n",
    "        if self._user_connected == 1:                        # choose_raffle\n",
    "            ad_associated = raffle_choosen.get_ad_associated()\n",
    "            ad_associated.visualize(user = self._main_user)\n",
    "        \n",
    "        else:\n",
    "            print('You are not logged in the App')\n",
    "            \n",
    "    def refresh(self):\n",
    "        \n",
    "        [raffle.refresh_raffle() for raffle in self._raffles if raffle.show_availability()]\n",
    "        \n",
    "        self._available_raffles = {raffle.get_properties()['name']: raffle for raffle in self._raffles\\\n",
    "                                        if raffle.show_availability()}\n",
    "                \n",
    "        self._finished_raffles = {raffle.get_properties()['name']: raffle for raffle in self._raffles\\\n",
    "                                        if (raffle.show_availability() & raffle.get_finished())}\n",
    "            \n",
    "        self._winners_raffle_prize= [(winners, raffle, raffle.calculate_prize_money()) for raffle \\\n",
    "                                        in self._finished_raffles.values() for winners in raffle.get_winners()] \n",
    "                                        #2 comprensiones de lista\n",
    "        \n",
    "        #Estos 3 vectores estan ordenados a la vez\n",
    "        self._winners = [tuples[0].check_profile()[2] for tuples in self._winners_raffle_prize]   #Select name\n",
    "        self._raffles_win = [tuples[1].get_properties()['name'] for tuples in self._winners_raffle_prize]\n",
    "        self._raffles_final_prize_euros = [tuples[2] for tuples in self._winners_raffle_prize]\n",
    "        #Compongo un dataframe con estos 3 vectores\n",
    "        self._rank_winner = pd.DataFrame({'Winners':self._winners, 'Raffle': self._raffles_win, \n",
    "                                         'Prize (€)':self._raffles_final_prize_euros}),\n",
    "                                        \n",
    "    \n",
    "    def collect_prize(self):   \n",
    "        self.refresh()\n",
    "        if self._user_connected == 1:\n",
    "            if self._main_user.check_profile()[2] in self._winners:\n",
    "                \n",
    "                raffle_prize = [raffle for raffle in self._finished_raffles.values() \\\n",
    "                                if (raffle.get_winners() == self._main_user)]\n",
    "                \n",
    "                \n",
    "                for raffle in raffle_prize:\n",
    "                    if raffle in self._raffle_prized_list:\n",
    "                        self._prize = 0\n",
    "                    else:\n",
    "                        self._prize += raffle.calculate_prize_money()\n",
    "                        self._raffle_prized_list = raffle_prized_list.append(raffle)\n",
    "                \n",
    "                if self._prize == 0:\n",
    "                    print('Your prize has been paid and you have not win any more prizes')\n",
    "                else:\n",
    "                    password = str(input('Introduce your password'))\n",
    "                    self._pay_bizum(self._main_user.check_profile()[1], password, self._prize)\n",
    "            else:\n",
    "                print('You have not win any prize yet')\n",
    "        else:\n",
    "            print('You are not logged in the App')\n",
    "            \n",
    "    def _pay_bizum(self, nick:str, password: str, money: float):\n",
    "        bizum = self._main_user.obtain_bizum(nick, password)\n",
    "        print('The prize of {} € has been paid to the user {} of bizum {}'.format(money, nick, bizum))\n",
    "        \n",
    "    def see_winners(self):\n",
    "        self.refresh()\n",
    "        return  self._rank_winner"
   ]
  },
  {
   "cell_type": "code",
   "execution_count": 2,
   "metadata": {},
   "outputs": [],
   "source": [
    "a = datetime.now()"
   ]
  },
  {
   "cell_type": "code",
   "execution_count": 3,
   "metadata": {},
   "outputs": [],
   "source": [
    "b = datetime.now()"
   ]
  },
  {
   "cell_type": "code",
   "execution_count": 4,
   "metadata": {},
   "outputs": [
    {
     "data": {
      "text/plain": [
       "True"
      ]
     },
     "execution_count": 4,
     "metadata": {},
     "output_type": "execute_result"
    }
   ],
   "source": [
    "b > a"
   ]
  },
  {
   "cell_type": "code",
   "execution_count": 5,
   "metadata": {},
   "outputs": [],
   "source": [
    "a = [1, 2, 3]; b= [1, 4, 5]"
   ]
  },
  {
   "cell_type": "code",
   "execution_count": 6,
   "metadata": {},
   "outputs": [
    {
     "data": {
      "text/plain": [
       "[2, 3]"
      ]
     },
     "execution_count": 6,
     "metadata": {},
     "output_type": "execute_result"
    }
   ],
   "source": [
    "[x for x in a if (x in a) & (x not in b)]"
   ]
  },
  {
   "cell_type": "code",
   "execution_count": 7,
   "metadata": {},
   "outputs": [
    {
     "data": {
      "text/plain": [
       "2"
      ]
     },
     "execution_count": 7,
     "metadata": {},
     "output_type": "execute_result"
    }
   ],
   "source": [
    "aa = (2,2,4)\n",
    "aa[0]"
   ]
  },
  {
   "cell_type": "code",
   "execution_count": 8,
   "metadata": {},
   "outputs": [
    {
     "data": {
      "text/plain": [
       "4"
      ]
     },
     "execution_count": 8,
     "metadata": {},
     "output_type": "execute_result"
    }
   ],
   "source": [
    "a = set([2, 3, 4, 45])\n",
    "len(a)"
   ]
  },
  {
   "cell_type": "code",
   "execution_count": 9,
   "metadata": {},
   "outputs": [],
   "source": [
    "#Ejemplo de usuario\n",
    "\n",
    "user1 = User(1, 'user1', 'Manolo Garcia', 671445567, 'Badalona' )"
   ]
  },
  {
   "cell_type": "code",
   "execution_count": 10,
   "metadata": {},
   "outputs": [
    {
     "data": {
      "text/plain": [
       "<__main__.User at 0x7f3090e17c10>"
      ]
     },
     "execution_count": 10,
     "metadata": {},
     "output_type": "execute_result"
    }
   ],
   "source": [
    "user1"
   ]
  },
  {
   "cell_type": "code",
   "execution_count": 11,
   "metadata": {},
   "outputs": [
    {
     "name": "stdout",
     "output_type": "stream",
     "text": [
      "Introduce your password of 5 digits: 12345\n",
      "Password accepted\n"
     ]
    }
   ],
   "source": [
    "user1.set_password()"
   ]
  },
  {
   "cell_type": "code",
   "execution_count": 12,
   "metadata": {},
   "outputs": [
    {
     "data": {
      "text/plain": [
       "True"
      ]
     },
     "execution_count": 12,
     "metadata": {},
     "output_type": "execute_result"
    }
   ],
   "source": [
    "user1.user_configured()"
   ]
  },
  {
   "cell_type": "code",
   "execution_count": 13,
   "metadata": {},
   "outputs": [
    {
     "data": {
      "text/plain": [
       "(1, 'user1', 'Manolo Garcia', 'Badalona')"
      ]
     },
     "execution_count": 13,
     "metadata": {},
     "output_type": "execute_result"
    }
   ],
   "source": [
    "user1.check_profile()"
   ]
  },
  {
   "cell_type": "code",
   "execution_count": 14,
   "metadata": {},
   "outputs": [
    {
     "data": {
      "text/plain": [
       "671445567"
      ]
     },
     "execution_count": 14,
     "metadata": {},
     "output_type": "execute_result"
    }
   ],
   "source": [
    "user1.obtain_bizum('user1', '12345')"
   ]
  },
  {
   "cell_type": "code",
   "execution_count": 15,
   "metadata": {},
   "outputs": [],
   "source": [
    "#Ejemplo de Anuncio\n",
    "\n",
    "ad_1 = Ad('1', 'SEAT', '0.1')"
   ]
  },
  {
   "cell_type": "code",
   "execution_count": 16,
   "metadata": {},
   "outputs": [
    {
     "data": {
      "text/plain": [
       "['1', 'SEAT', '0.1', 0]"
      ]
     },
     "execution_count": 16,
     "metadata": {},
     "output_type": "execute_result"
    }
   ],
   "source": [
    "ad_1.show_properties()"
   ]
  },
  {
   "cell_type": "code",
   "execution_count": 17,
   "metadata": {},
   "outputs": [],
   "source": [
    "ad_1.visualize(user1)"
   ]
  },
  {
   "cell_type": "code",
   "execution_count": 18,
   "metadata": {},
   "outputs": [
    {
     "data": {
      "text/plain": [
       "1"
      ]
     },
     "execution_count": 18,
     "metadata": {},
     "output_type": "execute_result"
    }
   ],
   "source": [
    "ad_1._number_visits"
   ]
  },
  {
   "cell_type": "code",
   "execution_count": 19,
   "metadata": {},
   "outputs": [
    {
     "data": {
      "text/plain": [
       "[<__main__.User at 0x7f3090e17c10>]"
      ]
     },
     "execution_count": 19,
     "metadata": {},
     "output_type": "execute_result"
    }
   ],
   "source": [
    "ad_1.export_users()"
   ]
  },
  {
   "cell_type": "code",
   "execution_count": 20,
   "metadata": {},
   "outputs": [
    {
     "data": {
      "text/plain": [
       "['1', 'SEAT', '0.1', 1]"
      ]
     },
     "execution_count": 20,
     "metadata": {},
     "output_type": "execute_result"
    }
   ],
   "source": [
    "ad_1.show_properties()"
   ]
  },
  {
   "cell_type": "code",
   "execution_count": 21,
   "metadata": {},
   "outputs": [],
   "source": [
    "oa = ad_1.export_users()"
   ]
  },
  {
   "cell_type": "code",
   "execution_count": 22,
   "metadata": {},
   "outputs": [
    {
     "data": {
      "text/plain": [
       "(1, 'user1', 'Manolo Garcia', 'Badalona')"
      ]
     },
     "execution_count": 22,
     "metadata": {},
     "output_type": "execute_result"
    }
   ],
   "source": [
    "oa[0].check_profile()"
   ]
  },
  {
   "cell_type": "code",
   "execution_count": 23,
   "metadata": {},
   "outputs": [],
   "source": [
    "#Segundo usuario"
   ]
  },
  {
   "cell_type": "code",
   "execution_count": 24,
   "metadata": {},
   "outputs": [],
   "source": [
    "user2 = User(2, 'user2', 'Oscar Monge', 671444568, 'Martorelles' )"
   ]
  },
  {
   "cell_type": "code",
   "execution_count": 25,
   "metadata": {},
   "outputs": [
    {
     "name": "stdout",
     "output_type": "stream",
     "text": [
      "Introduce your password of 5 digits: 12345\n",
      "Password accepted\n"
     ]
    },
    {
     "data": {
      "text/plain": [
       "(2, 'user2', 'Oscar Monge', 'Martorelles')"
      ]
     },
     "execution_count": 25,
     "metadata": {},
     "output_type": "execute_result"
    }
   ],
   "source": [
    "user2.set_password()\n",
    "user2.user_configured()\n",
    "user2.check_profile()"
   ]
  },
  {
   "cell_type": "code",
   "execution_count": 26,
   "metadata": {},
   "outputs": [
    {
     "data": {
      "text/plain": [
       "'12345'"
      ]
     },
     "execution_count": 26,
     "metadata": {},
     "output_type": "execute_result"
    }
   ],
   "source": [
    "user2._validate_password()"
   ]
  },
  {
   "cell_type": "code",
   "execution_count": 27,
   "metadata": {},
   "outputs": [],
   "source": [
    "ad_1.visualize(user2)"
   ]
  },
  {
   "cell_type": "code",
   "execution_count": 28,
   "metadata": {},
   "outputs": [
    {
     "data": {
      "text/plain": [
       "['1', 'SEAT', '0.1', 2]"
      ]
     },
     "execution_count": 28,
     "metadata": {},
     "output_type": "execute_result"
    }
   ],
   "source": [
    "ad_1.show_properties()"
   ]
  },
  {
   "cell_type": "code",
   "execution_count": 29,
   "metadata": {},
   "outputs": [
    {
     "data": {
      "text/plain": [
       "[<__main__.User at 0x7f3090e17c10>, <__main__.User at 0x7f309059b190>]"
      ]
     },
     "execution_count": 29,
     "metadata": {},
     "output_type": "execute_result"
    }
   ],
   "source": [
    "ad_1.export_users()"
   ]
  },
  {
   "cell_type": "code",
   "execution_count": 30,
   "metadata": {},
   "outputs": [
    {
     "data": {
      "text/plain": [
       "'0.1'"
      ]
     },
     "execution_count": 30,
     "metadata": {},
     "output_type": "execute_result"
    }
   ],
   "source": [
    "ad_1.show_properties()[2] "
   ]
  },
  {
   "cell_type": "code",
   "execution_count": 31,
   "metadata": {},
   "outputs": [],
   "source": [
    "#Ejemplo de Raffle\n",
    "raffle_1 = Raffle('a', 'SORTEO DE LA VIDA', ad_1)"
   ]
  },
  {
   "cell_type": "code",
   "execution_count": 32,
   "metadata": {},
   "outputs": [
    {
     "data": {
      "text/plain": [
       "<__main__.Ad at 0x7f309059bf50>"
      ]
     },
     "execution_count": 32,
     "metadata": {},
     "output_type": "execute_result"
    }
   ],
   "source": [
    "raffle_1.get_ad_associated()"
   ]
  },
  {
   "cell_type": "code",
   "execution_count": 33,
   "metadata": {},
   "outputs": [
    {
     "data": {
      "text/plain": [
       "False"
      ]
     },
     "execution_count": 33,
     "metadata": {},
     "output_type": "execute_result"
    }
   ],
   "source": [
    "raffle_1.show_availability()"
   ]
  },
  {
   "cell_type": "code",
   "execution_count": 34,
   "metadata": {},
   "outputs": [
    {
     "name": "stdout",
     "output_type": "stream",
     "text": [
      "The raffle has not started, the ad is not available\n"
     ]
    }
   ],
   "source": [
    "raffle_1.calculate_prize_money()"
   ]
  },
  {
   "cell_type": "code",
   "execution_count": 35,
   "metadata": {},
   "outputs": [],
   "source": [
    "raffle_1.start_zerotime_raffle()"
   ]
  },
  {
   "cell_type": "code",
   "execution_count": 36,
   "metadata": {},
   "outputs": [
    {
     "data": {
      "text/plain": [
       "True"
      ]
     },
     "execution_count": 36,
     "metadata": {},
     "output_type": "execute_result"
    }
   ],
   "source": [
    "raffle_1.show_availability()"
   ]
  },
  {
   "cell_type": "code",
   "execution_count": 37,
   "metadata": {},
   "outputs": [
    {
     "data": {
      "text/plain": [
       "0.2"
      ]
     },
     "execution_count": 37,
     "metadata": {},
     "output_type": "execute_result"
    }
   ],
   "source": [
    "raffle_1.calculate_prize_money()"
   ]
  },
  {
   "cell_type": "code",
   "execution_count": 38,
   "metadata": {},
   "outputs": [
    {
     "data": {
      "text/plain": [
       "[]"
      ]
     },
     "execution_count": 38,
     "metadata": {},
     "output_type": "execute_result"
    }
   ],
   "source": [
    "raffle_1.get_winners()"
   ]
  },
  {
   "cell_type": "code",
   "execution_count": 39,
   "metadata": {},
   "outputs": [
    {
     "name": "stdout",
     "output_type": "stream",
     "text": [
      " The prize money is: 0.2 \n",
      " The duration of the raffle is 0.016666666666666666 hours \n",
      " It finishes at 2020-07-13 10:57:37.984110 \n",
      " The number of winners is 1\n"
     ]
    }
   ],
   "source": [
    "raffle_1.show_properties()"
   ]
  },
  {
   "cell_type": "code",
   "execution_count": 40,
   "metadata": {},
   "outputs": [
    {
     "data": {
      "text/plain": [
       "[]"
      ]
     },
     "execution_count": 40,
     "metadata": {},
     "output_type": "execute_result"
    }
   ],
   "source": [
    "raffle_1._participants"
   ]
  },
  {
   "cell_type": "code",
   "execution_count": 41,
   "metadata": {},
   "outputs": [],
   "source": [
    "#winner = raffle_1.raffle_select_winners()\n"
   ]
  },
  {
   "cell_type": "code",
   "execution_count": 42,
   "metadata": {},
   "outputs": [],
   "source": [
    "#winner[0].check_profile()"
   ]
  },
  {
   "cell_type": "code",
   "execution_count": 43,
   "metadata": {},
   "outputs": [
    {
     "name": "stdout",
     "output_type": "stream",
     "text": [
      "The raffle has not been finished, the winners will be choosed in 0 hours, 1 minutes, -0.04861783981323242 seconds\n"
     ]
    }
   ],
   "source": [
    "raffle_1.announce_winners()"
   ]
  },
  {
   "cell_type": "code",
   "execution_count": 44,
   "metadata": {},
   "outputs": [
    {
     "name": "stdout",
     "output_type": "stream",
     "text": [
      " The prize money is: 0.2 \n",
      " The duration of the raffle is 0.016666666666666666 hours \n",
      " It finishes at 2020-07-13 10:57:37.984110 \n",
      " The number of winners is 1\n"
     ]
    }
   ],
   "source": [
    "raffle_1.show_properties()"
   ]
  },
  {
   "cell_type": "code",
   "execution_count": 45,
   "metadata": {},
   "outputs": [
    {
     "data": {
      "text/plain": [
       "[]"
      ]
     },
     "execution_count": 45,
     "metadata": {},
     "output_type": "execute_result"
    }
   ],
   "source": [
    "raffle_1.get_winners()"
   ]
  },
  {
   "cell_type": "code",
   "execution_count": 46,
   "metadata": {},
   "outputs": [],
   "source": [
    "#Ejemplo de clase App"
   ]
  },
  {
   "cell_type": "code",
   "execution_count": 47,
   "metadata": {},
   "outputs": [],
   "source": [
    "#Antes inscribiré otro usuario más y otro raffle (sorteo) que está asociado a otro anuncio"
   ]
  },
  {
   "cell_type": "code",
   "execution_count": 48,
   "metadata": {},
   "outputs": [
    {
     "name": "stdout",
     "output_type": "stream",
     "text": [
      "Introduce your password of 5 digits: 12345\n",
      "Password accepted\n"
     ]
    },
    {
     "data": {
      "text/plain": [
       "(3, 'user3', 'Carla Roqueta', 'Lyon')"
      ]
     },
     "execution_count": 48,
     "metadata": {},
     "output_type": "execute_result"
    }
   ],
   "source": [
    "user3 = User(3, 'user3', 'Carla Roqueta', 671443458, 'Lyon' )\n",
    "user3.set_password()\n",
    "user3.user_configured()\n",
    "user3.check_profile()\n"
   ]
  },
  {
   "cell_type": "code",
   "execution_count": 49,
   "metadata": {},
   "outputs": [],
   "source": [
    "ad_2 = Ad('2', 'DUREX', '0.2')\n",
    "raffle_2 = Raffle('b', 'SORTEO DE LA PASION', ad_2)"
   ]
  },
  {
   "cell_type": "code",
   "execution_count": 50,
   "metadata": {},
   "outputs": [],
   "source": [
    "ad_2.visualize(user3)\n",
    "ad_2.visualize(user2)\n",
    "ad_2.visualize(user1)"
   ]
  },
  {
   "cell_type": "code",
   "execution_count": 51,
   "metadata": {},
   "outputs": [],
   "source": [
    "#Empieza el sorteo, ya está disponible\n",
    "\n",
    "raffle_2.start_zerotime_raffle()"
   ]
  },
  {
   "cell_type": "code",
   "execution_count": 52,
   "metadata": {},
   "outputs": [],
   "source": [
    "#raffle_2.raffle_select_winners()"
   ]
  },
  {
   "cell_type": "code",
   "execution_count": 53,
   "metadata": {},
   "outputs": [],
   "source": [
    "# winner2 = raffle_2.get_winners()\n"
   ]
  },
  {
   "cell_type": "code",
   "execution_count": 54,
   "metadata": {},
   "outputs": [],
   "source": [
    "# winner2[0].check_profile()"
   ]
  },
  {
   "cell_type": "code",
   "execution_count": 55,
   "metadata": {},
   "outputs": [],
   "source": [
    "#El usuario Oscar enciende la app\n",
    "list_users = [user1, user2, user3]\n",
    "list_ads = [ad_1, ad_2]\n",
    "list_raffles = [raffle_1, raffle_2]\n",
    "\n",
    "app_1 = App(list_users, list_ads, list_raffles)"
   ]
  },
  {
   "cell_type": "code",
   "execution_count": 56,
   "metadata": {},
   "outputs": [
    {
     "name": "stdout",
     "output_type": "stream",
     "text": [
      "Introduce your password: 12345\n",
      "You are connected now\n"
     ]
    }
   ],
   "source": [
    "#Se conecta\n",
    "app_1.connect('user1')"
   ]
  },
  {
   "cell_type": "code",
   "execution_count": 57,
   "metadata": {},
   "outputs": [
    {
     "data": {
      "text/plain": [
       "[{'name': 'SORTEO DE LA VIDA',\n",
       "  'money': 0.2,\n",
       "  'id_raffle': 'a',\n",
       "  'duration': 60,\n",
       "  'time_raffle': datetime.datetime(2020, 7, 13, 10, 57, 37, 984110),\n",
       "  'number_winners': 1},\n",
       " {'name': 'SORTEO DE LA PASION',\n",
       "  'money': 0,\n",
       "  'id_raffle': 'b',\n",
       "  'duration': 60,\n",
       "  'time_raffle': datetime.datetime(2020, 7, 13, 10, 57, 39, 212868),\n",
       "  'number_winners': 1}]"
      ]
     },
     "execution_count": 57,
     "metadata": {},
     "output_type": "execute_result"
    }
   ],
   "source": [
    "app_1.see_available_raffles()"
   ]
  },
  {
   "cell_type": "code",
   "execution_count": 58,
   "metadata": {},
   "outputs": [
    {
     "name": "stdout",
     "output_type": "stream",
     "text": [
      "You have not win any prize yet\n"
     ]
    }
   ],
   "source": [
    "app_1.collect_prize()"
   ]
  },
  {
   "cell_type": "code",
   "execution_count": 59,
   "metadata": {},
   "outputs": [
    {
     "name": "stdout",
     "output_type": "stream",
     "text": [
      "Do you want to participate in the raffle? Write (y/n) y\n",
      "You are participating in the SORTEO DE LA VIDA.\n"
     ]
    },
    {
     "data": {
      "text/plain": [
       "{'name': 'SORTEO DE LA VIDA',\n",
       " 'money': 0.2,\n",
       " 'id_raffle': 'a',\n",
       " 'duration': 60,\n",
       " 'time_raffle': datetime.datetime(2020, 7, 13, 10, 57, 37, 984110),\n",
       " 'number_winners': 1}"
      ]
     },
     "execution_count": 59,
     "metadata": {},
     "output_type": "execute_result"
    }
   ],
   "source": [
    "#Puede participar en el sorteo pero como ya hice el raffle del sorteo en comando antes no ganará nada:\n",
    "\n",
    "\n",
    "app_1.choose_raffle('SORTEO DE LA VIDA')"
   ]
  },
  {
   "cell_type": "code",
   "execution_count": 66,
   "metadata": {},
   "outputs": [
    {
     "data": {
      "text/plain": [
       "(         Winners               Raffle  Prize (€)\n",
       " 0    Oscar Monge    SORTEO DE LA VIDA        0.2\n",
       " 1  Manolo Garcia  SORTEO DE LA PASION        0.6,)"
      ]
     },
     "execution_count": 66,
     "metadata": {},
     "output_type": "execute_result"
    }
   ],
   "source": [
    "app_1.see_winners()\n"
   ]
  },
  {
   "cell_type": "code",
   "execution_count": 67,
   "metadata": {},
   "outputs": [
    {
     "data": {
      "text/plain": [
       "[]"
      ]
     },
     "execution_count": 67,
     "metadata": {},
     "output_type": "execute_result"
    }
   ],
   "source": [
    "app_1.see_available_raffles()"
   ]
  },
  {
   "cell_type": "code",
   "execution_count": 65,
   "metadata": {},
   "outputs": [
    {
     "name": "stdout",
     "output_type": "stream",
     "text": [
      "You are already connected user2\n"
     ]
    }
   ],
   "source": [
    "app_1.connect('user2')"
   ]
  },
  {
   "cell_type": "code",
   "execution_count": null,
   "metadata": {},
   "outputs": [],
   "source": []
  },
  {
   "cell_type": "code",
   "execution_count": null,
   "metadata": {},
   "outputs": [],
   "source": []
  },
  {
   "cell_type": "markdown",
   "metadata": {},
   "source": []
  },
  {
   "cell_type": "code",
   "execution_count": 62,
   "metadata": {},
   "outputs": [],
   "source": [
    "#problemas del tiempo-- no se anuncia automaticamente la finalizacion del sorteo con el select winners automatico"
   ]
  }
 ],
 "metadata": {
  "kernelspec": {
   "display_name": "Python 3",
   "language": "python",
   "name": "python3"
  },
  "language_info": {
   "codemirror_mode": {
    "name": "ipython",
    "version": 3
   },
   "file_extension": ".py",
   "mimetype": "text/x-python",
   "name": "python",
   "nbconvert_exporter": "python",
   "pygments_lexer": "ipython3",
   "version": "3.8.3"
  }
 },
 "nbformat": 4,
 "nbformat_minor": 4
}
